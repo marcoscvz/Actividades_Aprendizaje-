{
  "nbformat": 4,
  "nbformat_minor": 0,
  "metadata": {
    "colab": {
      "provenance": [],
      "collapsed_sections": [
        "Zj-h4drXD-X9",
        "BY6yifxscfrx"
      ],
      "include_colab_link": true
    },
    "kernelspec": {
      "name": "python3",
      "display_name": "Python 3"
    },
    "language_info": {
      "name": "python"
    }
  },
  "cells": [
    {
      "cell_type": "markdown",
      "metadata": {
        "id": "view-in-github",
        "colab_type": "text"
      },
      "source": [
        "<a href=\"https://colab.research.google.com/github/marcoscvz/Actividades_Aprendizaje-/blob/main/A01688507_semana2_actividad_01.ipynb\" target=\"_parent\"><img src=\"https://colab.research.google.com/assets/colab-badge.svg\" alt=\"Open In Colab\"/></a>"
      ]
    },
    {
      "cell_type": "markdown",
      "source": [
        "#**Maestría en Inteligencia Artificial Aplicada**\n",
        "##**Curso: Procesamiento de Lenguaje Natural (NLP)**\n",
        "###Tecnológico de Monterrey\n",
        "###Prof Luis Eduardo Falcón Morales\n",
        "\n",
        "## **Adtividad de la Semana 02**\n",
        "###**Introducción al procesamiento de texto.**"
      ],
      "metadata": {
        "id": "759SG4TyfbUn"
      }
    },
    {
      "cell_type": "markdown",
      "source": [
        "En esta actividad deberás utilizar los datos del siguiente archivo que se encuentra en Canvas:\n",
        "\n",
        "MNA_NLP_semana_02_Actividad_datos.txt\n",
        "\n",
        "El archivo contiene comentarios en inglés sobre servicios de comida de la página de Yelp: https://www.yelp.com/ . \n",
        "\n",
        "Son mil comentarios y forman parte del conjunto de datos que se encuentra en el Machine Learning Repository de la UCI, llamado \"Sentiment Labelled Sentences\": https://archive.ics.uci.edu/ml/datasets/Sentiment+Labelled+Sentences#\n"
      ],
      "metadata": {
        "id": "6ue1YAKx3XDo"
      }
    },
    {
      "cell_type": "markdown",
      "source": [
        "#**Parte 1. Cargamos los datos.**   "
      ],
      "metadata": {
        "id": "Zj-h4drXD-X9"
      }
    },
    {
      "cell_type": "markdown",
      "source": [
        "Cargar los datos del archivo indicado y obtener una lista de longitud de 1000 strings/comentarios. \n",
        "\n",
        "Por el momento solamente requerimos las bibliotecas de Numpy y re, para el manejo de los arreglos y de las expresiones regulares en Python.\n",
        "\n",
        "En particular, no necesitarás en esta actividad la biblioteca de Pandas.\n",
        "\n",
        "###**NOTA: En esta actividad no debes importar nada más, con estas dos bibliotecas será *suficiente*.**"
      ],
      "metadata": {
        "id": "BY6yifxscfrx"
      }
    },
    {
      "cell_type": "code",
      "source": [
        "import numpy as np    # importamos Numpy para el manejo de los arreglos.\n",
        "import re             # importamos re para el manejo de las expresiones regulares."
      ],
      "metadata": {
        "id": "OJ26dAfhdFnf"
      },
      "execution_count": 1,
      "outputs": []
    },
    {
      "cell_type": "code",
      "source": [
        "# Ejecuta las siguientes instrucciones para cargar la información del achivo dado:\n",
        "\n",
        "with open('/content/MNA_NLP_semana_02_Actividad_datos.txt',        # puedes actualizar la ruta a tu archivo, en dado caso.\n",
        "          mode='r',     # abrimos el archivo en modo lectura.\n",
        "          ) as f:\n",
        "    docs = f.readlines()    # separamos cada comentario por líneas\n",
        "\n",
        "f.close()  # ya que tenemos la información en la variable docs, cerramos el archivo"
      ],
      "metadata": {
        "id": "QHUmJyjDdGNP"
      },
      "execution_count": 2,
      "outputs": []
    },
    {
      "cell_type": "code",
      "source": [
        "type(docs) == list   # Verifica que tu variable \"docs\" es una lista"
      ],
      "metadata": {
        "id": "L6WzrSrodG-Y",
        "colab": {
          "base_uri": "https://localhost:8080/"
        },
        "outputId": "75cf09d7-b982-4772-ae3d-dae28a990cc1"
      },
      "execution_count": 3,
      "outputs": [
        {
          "output_type": "execute_result",
          "data": {
            "text/plain": [
              "True"
            ]
          },
          "metadata": {},
          "execution_count": 3
        }
      ]
    },
    {
      "cell_type": "code",
      "source": [
        "len(docs)==1000  # verifica que la longitud de \"docs\" es de mil comentarios."
      ],
      "metadata": {
        "id": "QIK1u9WS2FtS",
        "colab": {
          "base_uri": "https://localhost:8080/"
        },
        "outputId": "a30eed22-0511-4aed-969f-a76057c77dc9"
      },
      "execution_count": 4,
      "outputs": [
        {
          "output_type": "execute_result",
          "data": {
            "text/plain": [
              "True"
            ]
          },
          "metadata": {},
          "execution_count": 4
        }
      ]
    },
    {
      "cell_type": "code",
      "source": [
        "docs[0:10]     # observa algunos de los primeros comentarios"
      ],
      "metadata": {
        "id": "9AMLIfQvJqNZ",
        "colab": {
          "base_uri": "https://localhost:8080/"
        },
        "outputId": "126cfd17-05f6-4848-d5ea-c5f8541ff21c"
      },
      "execution_count": 5,
      "outputs": [
        {
          "output_type": "execute_result",
          "data": {
            "text/plain": [
              "['Wow... Loved this place.\\n',\n",
              " 'Crust is not good.\\n',\n",
              " 'Not tasty and the texture was just nasty.\\n',\n",
              " 'Stopped by during the late May bank holiday off Rick Steve recommendation and loved it.\\n',\n",
              " 'The selection on the menu was great and so were the prices.\\n',\n",
              " 'Now I am getting angry and I want my damn pho.\\n',\n",
              " \"Honeslty it didn't taste THAT fresh.)\\n\",\n",
              " 'The potatoes were like rubber and you could tell they had been made up ahead of time being kept under a warmer.\\n',\n",
              " 'The fries were great too.\\n',\n",
              " 'A great touch.\\n']"
            ]
          },
          "metadata": {},
          "execution_count": 5
        }
      ]
    },
    {
      "cell_type": "markdown",
      "source": [
        "#**Parte 2: sección de preguntas (regex).**   \n"
      ],
      "metadata": {
        "id": "k_ewoagic5jc"
      }
    },
    {
      "cell_type": "markdown",
      "source": [
        "##**Instrucciones:**\n",
        "\n",
        "###**A continuación deberás contestar cada una de las preguntas que te piden usando expresiones regulares (regex).**\n",
        "\n",
        "###**Por el momento no hay restricción en cuanto al número de líneas de código que agregues, pero trata de incluir las mínimas posibles.**"
      ],
      "metadata": {
        "id": "X-eMJa3DFCIV"
      }
    },
    {
      "cell_type": "markdown",
      "source": [
        "*   **Pregunta 1.** \n",
        "\n",
        "Busca y elimina todos los saltos de línea '\\n' que se encuentran al final de cada comentario. \n",
        "\n",
        "Una vez finalizado, imprime los primeros 10 comentarios del resultado obtenido.\n"
      ],
      "metadata": {
        "id": "78nJMemzn5a5"
      }
    },
    {
      "cell_type": "code",
      "source": [
        "docs1 = []\n",
        "for i in docs:\n",
        "  list1 = re.sub(r'\\n$','', i)\n",
        "  docs1.append(list1)\n",
        "\n",
        "len(docs1) #Verificando el numero de comentarios"
      ],
      "metadata": {
        "id": "PwbYYIuZn8pE",
        "colab": {
          "base_uri": "https://localhost:8080/"
        },
        "outputId": "7a545995-7c91-4773-d588-8aff5dcf6685"
      },
      "execution_count": 6,
      "outputs": [
        {
          "output_type": "execute_result",
          "data": {
            "text/plain": [
              "1000"
            ]
          },
          "metadata": {},
          "execution_count": 6
        }
      ]
    },
    {
      "cell_type": "code",
      "source": [
        "docs1[0:10]"
      ],
      "metadata": {
        "colab": {
          "base_uri": "https://localhost:8080/"
        },
        "id": "xJt3ysGlzwlx",
        "outputId": "90e029e3-fa28-4257-8f50-cc301612ae65"
      },
      "execution_count": 7,
      "outputs": [
        {
          "output_type": "execute_result",
          "data": {
            "text/plain": [
              "['Wow... Loved this place.',\n",
              " 'Crust is not good.',\n",
              " 'Not tasty and the texture was just nasty.',\n",
              " 'Stopped by during the late May bank holiday off Rick Steve recommendation and loved it.',\n",
              " 'The selection on the menu was great and so were the prices.',\n",
              " 'Now I am getting angry and I want my damn pho.',\n",
              " \"Honeslty it didn't taste THAT fresh.)\",\n",
              " 'The potatoes were like rubber and you could tell they had been made up ahead of time being kept under a warmer.',\n",
              " 'The fries were great too.',\n",
              " 'A great touch.']"
            ]
          },
          "metadata": {},
          "execution_count": 7
        }
      ]
    },
    {
      "cell_type": "markdown",
      "source": [
        "*   **Pregunta 2.**  \n",
        "\n",
        "Busca e imprime todas las palabras que terminan con dos o más signos de admiración seguidos, por ejemplo \"!!!\". \n",
        "\n",
        "Debes imprimir tanto la palabra como la totalidad de signos de admiración que le siguen. \n",
        "\n",
        "Indica cuántos resultados obtuviste.\n",
        "\n"
      ],
      "metadata": {
        "id": "VWeKQC93ctEo"
      }
    },
    {
      "cell_type": "code",
      "source": [
        "#Tokenización\n",
        "words = []\n",
        "for c in docs1:\n",
        "  for w in c.split():\n",
        "    words.append(w)\n",
        "\n",
        "len(words)"
      ],
      "metadata": {
        "colab": {
          "base_uri": "https://localhost:8080/"
        },
        "id": "0x11Rr2WRW3v",
        "outputId": "2509f734-b8c1-405e-f1e1-88a4175e7f97"
      },
      "execution_count": 8,
      "outputs": [
        {
          "output_type": "execute_result",
          "data": {
            "text/plain": [
              "10894"
            ]
          },
          "metadata": {},
          "execution_count": 8
        }
      ]
    },
    {
      "cell_type": "code",
      "source": [
        "#Palabras con dos o más signos de admiración\n",
        "words2 = [i for i in words if len(re.findall(r\"\\w+(?:\\!{2,}$)\", i)) > 0]\n",
        "print(words2)"
      ],
      "metadata": {
        "id": "J9eTLqZVZcmC",
        "colab": {
          "base_uri": "https://localhost:8080/"
        },
        "outputId": "6c833e5f-e206-4eb5-964d-1c77c4c5406d"
      },
      "execution_count": 9,
      "outputs": [
        {
          "output_type": "stream",
          "name": "stdout",
          "text": [
            "['Firehouse!!!!!', 'APPETIZERS!!!', 'amazing!!!', 'buffet!!!', 'good!!', 'it!!!!', 'DELICIOUS!!', 'amazing!!', 'shawarrrrrrma!!!!!!', 'yucky!!!', 'delicious!!!', 'far!!', 'biscuits!!!', 'disappointing!!!', 'awesome!!', 'Up!!', 'FLY!!!!!!!!', 'great!!!!!!!!!!!!!!', 'packed!!', 'amazing!!!!!!!!!!!!!!!!!!!', 'style!!', 'disappointed!!']\n"
          ]
        }
      ]
    },
    {
      "cell_type": "code",
      "source": [
        "len(words2)"
      ],
      "metadata": {
        "colab": {
          "base_uri": "https://localhost:8080/"
        },
        "id": "rnA464dqckcH",
        "outputId": "0cb35cc3-b776-410e-fac3-5ed19329eb74"
      },
      "execution_count": 10,
      "outputs": [
        {
          "output_type": "execute_result",
          "data": {
            "text/plain": [
              "22"
            ]
          },
          "metadata": {},
          "execution_count": 10
        }
      ]
    },
    {
      "cell_type": "markdown",
      "source": [
        "*   **Pregunta 3.**  \n",
        "\n",
        "Busca e imprime todas las palabras que están escritas totalmente en mayúsculas. Cada coincidencia debe ser una sola palabra.\n",
        "\n",
        "Indica cuántas palabras encontraste.\n",
        "\n"
      ],
      "metadata": {
        "id": "-s3okBqL96TT"
      }
    },
    {
      "cell_type": "code",
      "source": [
        "words3 = [i for i in words if len(re.findall(r\"[A-Z]\", i)) == len(i)]\n",
        "print(words3)"
      ],
      "metadata": {
        "id": "yKHJkZKo_nW5",
        "colab": {
          "base_uri": "https://localhost:8080/"
        },
        "outputId": "dc21ab40-88b9-4b38-9ad8-63274fdc1398"
      },
      "execution_count": 11,
      "outputs": [
        {
          "output_type": "stream",
          "name": "stdout",
          "text": [
            "['I', 'I', 'THAT', 'A', 'I', 'I', 'I', 'I', 'I', 'I', 'I', 'I', 'I', 'I', 'I', 'A', 'I', 'I', 'I', 'I', 'I', 'WILL', 'NEVER', 'EVER', 'STEP', 'FORWARD', 'IN', 'IT', 'LOVED', 'I', 'AND', 'I', 'I', 'I', 'I', 'I', 'NYC', 'I', 'I', 'I', 'I', 'I', 'I', 'I', 'I', 'I', 'I', 'I', 'I', 'I', 'I', 'I', 'WORST', 'EXPERIENCE', 'I', 'ALL', 'I', 'I', 'NONE', 'FREEZING', 'AYCE', 'I', 'I', 'I', 'I', 'I', 'I', 'I', 'I', 'I', 'I', 'I', 'I', 'I', 'I', 'I', 'I', 'I', 'I', 'I', 'I', 'I', 'I', 'I', 'I', 'I', 'I', 'I', 'NEVER', 'I', 'I', 'I', 'I', 'I', 'I', 'I', 'I', 'I', 'I', 'I', 'I', 'I', 'RUDE', 'INCONSIDERATE', 'I', 'I', 'WILL', 'NEVER', 'EVER', 'GO', 'BACK', 'AND', 'HAVE', 'TOLD', 'MANY', 'PEOPLE', 'WHAT', 'HAD', 'I', 'I', 'I', 'I', 'I', 'I', 'I', 'I', 'TOTAL', 'WASTE', 'OF', 'I', 'I', 'I', 'I', 'I', 'I', 'I', 'I', 'I', 'I', 'I', 'FS', 'I', 'I', 'I', 'I', 'I', 'I', 'I', 'I', 'I', 'AZ', 'I', 'I', 'I', 'LOVED', 'I', 'I', 'I', 'I', 'I', 'I', 'I', 'I', 'BEST', 'I', 'GO', 'I', 'I', 'I', 'I', 'I', 'I', 'I', 'I', 'I', 'I', 'AVOID', 'THIS', 'I', 'I', 'I', 'A', 'I', 'I', 'AN', 'I', 'I', 'I', 'I', 'I', 'I', 'OMG', 'I', 'I', 'NO', 'I', 'I', 'I', 'BEST', 'I', 'I', 'I', 'I', 'OWNERS', 'REALLY', 'REALLY', 'I', 'I', 'I', 'I', 'I', 'I', 'I', 'I', 'I', 'I', 'PERFECT', 'SCREAMS', 'I', 'I', 'I', 'A', 'I', 'I', 'I', 'I', 'I', 'BEST', 'I', 'I', 'A', 'FLY', 'A', 'I', 'I', 'I', 'I', 'I', 'I', 'I', 'I', 'I', 'GREAT', 'I', 'WAY', 'I', 'MUST', 'I', 'I', 'I', 'OK', 'I', 'I', 'I', 'I', 'I', 'I', 'I', 'I', 'I', 'I', 'I', 'I', 'I', 'I', 'I', 'I', 'I', 'I', 'I', 'I', 'I', 'I', 'I', 'BARE', 'I', 'I', 'I', 'I', 'I', 'I', 'I', 'I', 'I', 'I', 'I', 'I', 'I', 'I', 'I', 'I', 'SHOULD', 'I', 'I', 'I', 'RI', 'I', 'I', 'I', 'I', 'I', 'I', 'VERY', 'I', 'I', 'NOT', 'I', 'I', 'I', 'I', 'I', 'I', 'I', 'I', 'I', 'I', 'I', 'I', 'I', 'I', 'A', 'I', 'I', 'I', 'I', 'I', 'I']\n"
          ]
        }
      ]
    },
    {
      "cell_type": "code",
      "source": [
        "len(words3)"
      ],
      "metadata": {
        "id": "L3q08aq69sNn",
        "colab": {
          "base_uri": "https://localhost:8080/"
        },
        "outputId": "6f7d40bf-ba3f-4fb6-b49f-1d665d4d0d73"
      },
      "execution_count": 12,
      "outputs": [
        {
          "output_type": "execute_result",
          "data": {
            "text/plain": [
              "327"
            ]
          },
          "metadata": {},
          "execution_count": 12
        }
      ]
    },
    {
      "cell_type": "markdown",
      "source": [
        "*   **Pregunta 4.**  \n",
        "\n",
        "Busca e imprime los comentarios en donde todos los caracteres alfabéticos (letras) están en mayúsculas. \n",
        "\n",
        "Cada coincidencia encontrada debe ser todo el comentario/enunciado.\n",
        "\n",
        "Indica cuántos resultados obtuviste.\n"
      ],
      "metadata": {
        "id": "GX8eYyDoMZma"
      }
    },
    {
      "cell_type": "code",
      "source": [
        "lines4 = [docs1[i] for i in range(0,1000) if len(re.findall(r\"[^a-z]\", docs1[i])) == len(docs1[i])]\n",
        "print(lines4)"
      ],
      "metadata": {
        "colab": {
          "base_uri": "https://localhost:8080/"
        },
        "id": "SX-iVR7ndnj6",
        "outputId": "f4d4f532-8ca0-4043-d2e0-d7fdb71c0730"
      },
      "execution_count": 13,
      "outputs": [
        {
          "output_type": "stream",
          "name": "stdout",
          "text": [
            "['DELICIOUS!!', 'RUDE & INCONSIDERATE MANAGEMENT.', 'WILL NEVER EVER GO BACK AND HAVE TOLD MANY PEOPLE WHAT HAD HAPPENED.', 'TOTAL WASTE OF TIME.', 'AVOID THIS ESTABLISHMENT!']\n"
          ]
        }
      ]
    },
    {
      "cell_type": "code",
      "source": [
        "len(lines4)"
      ],
      "metadata": {
        "colab": {
          "base_uri": "https://localhost:8080/"
        },
        "id": "C4D32UPiqypF",
        "outputId": "8fe38b75-0225-4842-9c1c-6358033730de"
      },
      "execution_count": 14,
      "outputs": [
        {
          "output_type": "execute_result",
          "data": {
            "text/plain": [
              "5"
            ]
          },
          "metadata": {},
          "execution_count": 14
        }
      ]
    },
    {
      "cell_type": "markdown",
      "source": [
        "*   **Pregunta 5.**  \n",
        "\n",
        "Busca e imprime todas las palabras que tengan una vocal acentuada, del tipo á, é, í, ó, ú. \n",
        "\n",
        "Indica cuántos resultados obtuviste."
      ],
      "metadata": {
        "id": "a1i6qv7-McmU"
      }
    },
    {
      "cell_type": "code",
      "source": [
        "words5 = [i for i in words if len(re.findall(r\"[áéíóú]\", i)) > 0]\n",
        "print(words5)"
      ],
      "metadata": {
        "id": "nZZ5zKUOMeGD",
        "colab": {
          "base_uri": "https://localhost:8080/"
        },
        "outputId": "370e3d51-32ee-481a-d40a-d922ee0f4af3"
      },
      "execution_count": 15,
      "outputs": [
        {
          "output_type": "stream",
          "name": "stdout",
          "text": [
            "['fiancé', 'Café', 'puréed.']\n"
          ]
        }
      ]
    },
    {
      "cell_type": "code",
      "source": [
        "len(words5)"
      ],
      "metadata": {
        "id": "l1mFvUEZMe8s",
        "colab": {
          "base_uri": "https://localhost:8080/"
        },
        "outputId": "111403e6-91e3-4cb2-deb4-1dea7ea16487"
      },
      "execution_count": 16,
      "outputs": [
        {
          "output_type": "execute_result",
          "data": {
            "text/plain": [
              "3"
            ]
          },
          "metadata": {},
          "execution_count": 16
        }
      ]
    },
    {
      "cell_type": "markdown",
      "source": [
        "*   **Pregunta 6.**  \n",
        "\n",
        "Busca e imprime todas las cantidades numéricas monetarias, enteras o con decimales, que inician con el símbolo $\\$$. \n",
        "\n",
        "Indica cuántos resultados obtuviste."
      ],
      "metadata": {
        "id": "ZmPiAI82Mfb3"
      }
    },
    {
      "cell_type": "code",
      "source": [
        "words6 = []\n",
        "for i in range(0,len(words)):\n",
        "  words6 = words6 + re.findall(r\"\\$[0-9]*\\.?[0-9]*\", words[i])\n",
        "\n",
        "print(words6)"
      ],
      "metadata": {
        "colab": {
          "base_uri": "https://localhost:8080/"
        },
        "id": "uJVJ2RLuQ1g8",
        "outputId": "fa441c8e-cb4e-4882-f7a7-613e438477af"
      },
      "execution_count": 60,
      "outputs": [
        {
          "output_type": "stream",
          "name": "stdout",
          "text": [
            "['$20', '$4.00', '$17', '$3', '$35', '$7.85', '$12', '$11.99']\n"
          ]
        }
      ]
    },
    {
      "cell_type": "code",
      "source": [
        "len(words6)"
      ],
      "metadata": {
        "colab": {
          "base_uri": "https://localhost:8080/"
        },
        "id": "ZlVHUnznQ1r-",
        "outputId": "c0560573-9201-4544-f8fa-fd831cd519ff"
      },
      "execution_count": 61,
      "outputs": [
        {
          "output_type": "execute_result",
          "data": {
            "text/plain": [
              "8"
            ]
          },
          "metadata": {},
          "execution_count": 61
        }
      ]
    },
    {
      "cell_type": "markdown",
      "source": [
        "*   **Pregunta 7.**  \n",
        "\n",
        "Busca e imprime todas las palabras que sean variantes de la palabra \"love\", sin importar si incluyen mayúsculas o minúsculas, o la manera en que esté conjugada o alguna otra variación que se haga con dicha palabra.\n",
        "\n",
        "Indica cuántos resultados obtuviste."
      ],
      "metadata": {
        "id": "2j-HpvhwMhq2"
      }
    },
    {
      "cell_type": "code",
      "source": [
        "words7 = []\n",
        "for i in range(0,len(words)):\n",
        "  words7 = words7 + re.findall(r\"(?:lov|LOV|Lov)\\w*\", words[i])\n",
        "\n",
        "print(words7)"
      ],
      "metadata": {
        "colab": {
          "base_uri": "https://localhost:8080/"
        },
        "id": "ZsC4uoOdOlJ6",
        "outputId": "b216d5e4-9b71-4efe-b1c6-ba14bada27ac"
      },
      "execution_count": 65,
      "outputs": [
        {
          "output_type": "stream",
          "name": "stdout",
          "text": [
            "['Loved', 'loved', 'Loved', 'love', 'loves', 'LOVED', 'lovers', 'loving', 'love', 'lovers', 'Love', 'loved', 'loved', 'love', 'love', 'love', 'loved', 'love', 'loved', 'Love', 'LOVED', 'love', 'lovely', 'love', 'lovely', 'love', 'lover', 'loved', 'love', 'love', 'love', 'love', 'loves', 'love', 'love', 'love', 'love']\n"
          ]
        }
      ]
    },
    {
      "cell_type": "code",
      "source": [
        "len(words7)"
      ],
      "metadata": {
        "colab": {
          "base_uri": "https://localhost:8080/"
        },
        "id": "77jlWc0AKDZF",
        "outputId": "30de63a7-551d-484f-c539-4b9712159633"
      },
      "execution_count": 67,
      "outputs": [
        {
          "output_type": "execute_result",
          "data": {
            "text/plain": [
              "37"
            ]
          },
          "metadata": {},
          "execution_count": 67
        }
      ]
    },
    {
      "cell_type": "markdown",
      "source": [
        "*   **Pregunta 8.**  \n",
        "\n",
        "Busca e imprime todas las palabras, variantes de \"so\" y \"good\", que tengan dos o más \"o\" en \"so\" y 3 o más \"o\" en good. \n",
        "\n",
        "Indica cuántas encontraste.\n"
      ],
      "metadata": {
        "id": "Ctb-NTY3MkYG"
      }
    },
    {
      "cell_type": "code",
      "source": [
        "words8 = []\n",
        "for i in range(0,len(words)):\n",
        "  words8 = words8 + re.findall(r\"(?:goo{2,}d|Goo{2,}d|GOO{2,}D|so{2,}|So{2,}|SO{2,})\\w*\", words[i])\n",
        "\n",
        "print(words8)"
      ],
      "metadata": {
        "id": "A8Nf3B_cMlqg",
        "colab": {
          "base_uri": "https://localhost:8080/"
        },
        "outputId": "9c4b5707-9877-4839-a59f-c87e9c40158c"
      },
      "execution_count": 78,
      "outputs": [
        {
          "output_type": "stream",
          "name": "stdout",
          "text": [
            "['Sooooo', 'soon', 'soooo', 'soon', 'soon', 'gooodd', 'soon', 'soon', 'soooooo', 'soon', 'soon', 'soooo', 'soon', 'soon']\n"
          ]
        }
      ]
    },
    {
      "cell_type": "code",
      "source": [
        "len(words8)"
      ],
      "metadata": {
        "colab": {
          "base_uri": "https://localhost:8080/"
        },
        "id": "8jIsYJ_8Idc1",
        "outputId": "0ab64cfe-e8e8-468f-b82b-acd42fb2fb8d"
      },
      "execution_count": 79,
      "outputs": [
        {
          "output_type": "execute_result",
          "data": {
            "text/plain": [
              "14"
            ]
          },
          "metadata": {},
          "execution_count": 79
        }
      ]
    },
    {
      "cell_type": "markdown",
      "source": [
        "*   **Pregunta 9.**  \n",
        "\n",
        "Busca e imprime todas las palabras que tengan una longitud mayor estrictamente a 10 caracteres alfabéticos.\n",
        "\n",
        "No se consideran los signos de puntuación o caracteres especiales en la longitud de estas cadenas, solo caracteres alfabéticos en mayúsculas o minúsculas.\n",
        "\n",
        "Indica la cantidad de palabras encontradas.\n"
      ],
      "metadata": {
        "id": "hkak1opjMmlk"
      }
    },
    {
      "cell_type": "code",
      "source": [
        "words9 = [words[i] for i in range(0,len(words)) if len(re.findall(r\"[A-Za-z]\", words[i])) > 10]\n",
        "\n",
        "print(words9)"
      ],
      "metadata": {
        "id": "BR7e2F4FMof-",
        "colab": {
          "base_uri": "https://localhost:8080/"
        },
        "outputId": "f32a81ca-f37f-4b5f-cdb6-90b9608ef2be"
      },
      "execution_count": 68,
      "outputs": [
        {
          "output_type": "stream",
          "name": "stdout",
          "text": [
            "['recommendation', 'chicken,with', 'cranberry...mmmm!\"', 'recommended.', 'overwhelmed.\"', 'inexpensive.', 'establishment', 'imaginative', 'opportunity', 'experiencing', 'underwhelming', 'relationship', 'unsatisfying.', 'disappointing', 'outrageously', 'disappointing.\"', 'expectations.\"', 'restaurants', 'suggestions.', 'disappointed', 'considering', '\"Unfortunately,', 'immediately.', 'ingredients', 'accommodations', 'maintaining', 'Interesting', 'disrespected.', 'accordingly.', 'unbelievable', 'worst/annoying', 'cheeseburger', 'descriptions', 'working/eating', 'inexpensive,', 'disappointed.\"', 'Veggitarian', 'outstanding.', 'recommendation', 'disappointed.', 'disappointed', 'neighborhood', 'disappointed', 'Service-check!', 'corporation', 'considering', 'exceptional', 'shawarrrrrrma!!!!!!', 'disappointed.', 'vinaigrette', 'immediately', 'unbelievably', 'replenished', 'disappointed.\"', 'enthusiastic', 'Outstanding', 'comfortable.\"', 'interesting', 'INCONSIDERATE', 'considering', 'transcendant...', 'disappointment.', 'disappointed', 'disappointed.', 'overwhelmed', 'professional', 'me...everything', 'been-stepped-in-and-tracked-everywhere', '\"Furthermore,', 'expert/connisseur', 'breakfast/lunch.\"', 'combination', 'connoisseur', 'profiterole', 'outstanding', 'acknowledged,', 'ventilation', 'beautifully.', 'establishment.\"', 'extraordinary', 'disappointed!', 'cheesecurds', 'disappointed.\"', 'interesting,', 'experienced', 'opportunity', 'disgraceful.', 'restaurants', 'ESTABLISHMENT!', 'recommended', 'disappointed.', 'recommended!', 'acknowledged.', 'presentation', 'vegan/veggie', 'Philadelphia!', 'disappointed!', 'disappointing!!!', 'non-customer', 'grandmother', 'drastically', 'High-quality', 'informative.\"', 'Disappointed', 'constructed.\"', 'comfortable.', \"book...somethat's\", 'Smashburger', 'cheeseburger!', 'neighborhood', 'disappointed.\"', 'hospitality', 'recommending', 'disappointed', 'deliciously', 'compliments', 'recommendation', 'establishment', 'calligraphy', 'traditional', 'combination', \"girlfriend's\", '\"Unfortunately,', 'Wienerschnitzel', 'golden-crispy', 'unfortunately', 'under-services.\"', 'considering', 'food/service', 'gloves.Everything', 'highlighted', 'Mediterranean', 'unprofessional', 'anticipated.', 'disappointing', 'unexperienced', 'disrespected,', 'professional', 'restaurants', 'it...definitely', 'Disappointing', 'WAAAAAAyyyyyyyyyy', 'reservation.', 'imagination.', 'undercooked.', 'disappointed!!', 'disappointment', 'disappointment', 'deuchebaggery,', 'disappointed', 'disappointment!', 'immediately', '\"Unfortunately,', 'disapppointment', 'circumstances', 'undercooked,', 'caterpillar', 'presentation', 'disappointed', 'underwhelming,']\n"
          ]
        }
      ]
    },
    {
      "cell_type": "code",
      "source": [
        "len(words9)"
      ],
      "metadata": {
        "colab": {
          "base_uri": "https://localhost:8080/"
        },
        "id": "trlKQJJtKbgU",
        "outputId": "02079646-4591-45f7-b7e9-620ce9567e99"
      },
      "execution_count": 69,
      "outputs": [
        {
          "output_type": "execute_result",
          "data": {
            "text/plain": [
              "160"
            ]
          },
          "metadata": {},
          "execution_count": 69
        }
      ]
    },
    {
      "cell_type": "markdown",
      "source": [
        "*   **Pregunta 10.**  \n",
        "\n",
        "Busca e imprime todas las palabras que inician con una letra mayúscula y terminan con una minúscula, pero que además no sea la primera palabra del comentario/string. \n",
        "\n",
        "Indica la cantidad de resultados obtenidos."
      ],
      "metadata": {
        "id": "ApjTNzSxMpDc"
      }
    },
    {
      "cell_type": "code",
      "source": [
        "words10 = []\n",
        "for i in range(0,len(docs1)):\n",
        "  if len(re.findall(r\"\\s([A-Z]\\w*[a-z])\\b\", docs1[i])) > 0:\n",
        "         words10 = words10 + re.findall(r\"\\s([A-Z]\\w*[a-z])\\b\", docs1[i])\n",
        "\n",
        "print(words10)"
      ],
      "metadata": {
        "colab": {
          "base_uri": "https://localhost:8080/"
        },
        "id": "g5NGsaIhNyWw",
        "outputId": "8a9ee8fb-bf6a-4f20-801e-54953ac03978"
      },
      "execution_count": 70,
      "outputs": [
        {
          "output_type": "stream",
          "name": "stdout",
          "text": [
            "['Loved', 'May', 'Rick', 'Steve', 'Cape', 'Cod', 'Vegas', 'Burrittos', 'Blah', 'The', 'They', 'Mexican', 'Luke', 'Our', 'Hiro', 'Firehouse', 'Greek', 'Greek', 'Heart', 'Attack', 'Grill', 'Vegas', 'Dos', 'Gringos', 'Jeff', 'Really', 'Excalibur', 'Very', 'Bad', 'Customer', 'Service', 'Vegas', 'Rice', 'Company', 'Pho', 'Hard', 'Rock', 'Casino', 'Buffet', 'Tigerlilly', 'Yama', 'Thai', 'Indian', 'Not', 'Vegas', 'Lox', 'Subway', 'Subway', 'Vegas', 'Vegas', 'Mandalay', 'Bay', 'Great', 'Voodoo', 'Phoenix', 'Vegas', 'Khao', 'Soi', 'Lemon', 'Joey', 'Valley', 'Phoenix', 'Magazine', 'Pho', 'Fridays', 'Tasty', 'Jamaican', 'Bisque', 'Bussell', 'Sprouts', 'Risotto', 'Filet', 'Otto', 'Yeah', 'Honestly', 'Not', 'Also', 'Vegas', 'Greek', 'Vegas', 'Veggitarian', 'Madison', 'Ironman', 'Jenni', 'Pho', 'Bachi', 'Burger', 'Pizza', 'Salads', 'They', 'Yelpers', 'Bachi', 'Service', 'English', 'Pizza', 'Hut', 'Seat', 'Standard', 'Thai', 'Tucson', 'Vegas', 'Chipotle', 'Gordon', 'Ramsey', 'Steak', 'Vegas', 'Outstanding', 'Best', 'Food', 'Lobster', 'Bisque', 'Vegas', 'Eggplant', 'Green', 'Bean', 'Halibut', 'Vegas', 'Vegas', 'Vegas', 'Crystals', 'Aria', 'Ians', 'Bouchon', 'San', 'Francisco', 'Bay', 'Area', 'Buldogis', 'Gourmet', 'Hot', 'Dog', 'Steiners', 'Carly', 'Vegas', 'Camelback', 'Flower', 'Shop', 'Cartel', 'Coffee', 'Las', 'Vegas', 'Very', 'Mom', 'Noca', 'Vegas', 'Sat', 'Sun', 'Mexican', 'Frenchman', 'Perfect', 'Vegas', 'Palm', 'This', 'Thai', 'Toast', 'Thai', 'Phoenix', 'Crema', 'Philadelphia', 'North', 'Scottsdale', 'Bloody', 'Mary', 'Pho', 'Caesar', 'Macarons', 'Experience', 'Very', 'Disappointed', 'Big', 'Bay', 'Plater', 'Italian', 'Vegas', 'Baba', 'Ganoush', 'Nobu', 'Smashburger', 'Panna', 'Cotta', 'Breeze', 'Mango', 'Magic', 'Pineapple', 'Delight', 'The', 'Strip', 'Steak', 'Paradise', 'Valley', 'Cibo', 'Thumbs', 'Up', 'Italian', 'Pros', 'Large', 'Nice', 'Great', 'The', 'Elk', 'Filet', 'Dylan', 'All', 'Han', 'Nan', 'Chicken', 'Bar', 'Edinburgh', 'Chinese', 'Indian', 'Chinese', 'Prices', 'Phoenix', 'Both', 'Hot', 'Sour', 'Egg', 'Flower', 'Soups', 'Stars', 'Sunday', 'Hunan', 'The', 'Pita', 'Wienerschnitzel', 'Maine', 'Lobster', 'Roll', 'Kabuki', 'Maria', 'Caballero', 'Wife', 'Strip', 'Costco', 'To', 'Place', 'Gyros', 'Japanese', 'Albondigas', 'Mediterranean', 'Chicken', 'Salad', 'Mellow', 'Mushroom', 'Thai', 'Vegas', 'Mmmm', 'Buffet', 'Bellagio', 'Vegas', 'Christmas', 'Eve', 'Denny', 'Vegetarian', 'Taco', 'Heimer', 'Ha', 'Long', 'Bay', 'Subway', 'When', 'Brushfire', 'Mirage', 'In', 'Ninja', 'Sushi']\n"
          ]
        }
      ]
    },
    {
      "cell_type": "code",
      "source": [
        "len(words10)"
      ],
      "metadata": {
        "colab": {
          "base_uri": "https://localhost:8080/"
        },
        "id": "08fH_zhCKwnF",
        "outputId": "d50f1fd7-9ffa-4eb8-cef5-ea78e5bfdd33"
      },
      "execution_count": 71,
      "outputs": [
        {
          "output_type": "execute_result",
          "data": {
            "text/plain": [
              "266"
            ]
          },
          "metadata": {},
          "execution_count": 71
        }
      ]
    },
    {
      "cell_type": "markdown",
      "source": [
        "*   **Pregunta 11.**  \n",
        "\n",
        "Busca e imprime la secuencia de dos o más palabras que están separadas por un guion, \"-\", sin que tengan espacios en blanco entre ellas.\n",
        "\n",
        "Por ejemplo \"Go-Kart\" sería válido, pero \"Go  -Kart\" o \"Go  -  Kart\" no lo serían. \n",
        "\n",
        "Indica la cantidad de resultados obtenidos."
      ],
      "metadata": {
        "id": "u7nfm4KhMrNW"
      }
    },
    {
      "cell_type": "code",
      "source": [
        "words11 = []\n",
        "for i in range(0,len(docs1)):\n",
        "  if len(re.findall(r\"\\w+[\\-]\\w+\", docs[i])) > 0:\n",
        "    words11 = words11 + re.findall(r\"\\w+[\\-]\\w+\", docs[i])\n",
        "\n",
        "print(words11)"
      ],
      "metadata": {
        "colab": {
          "base_uri": "https://localhost:8080/"
        },
        "id": "NzVN3TJ6PF9F",
        "outputId": "99f48cd0-54b4-4fe1-c70f-f3fb0161da8e"
      },
      "execution_count": 72,
      "outputs": [
        {
          "output_type": "stream",
          "name": "stdout",
          "text": [
            "['flat-lined', 'hands-down', 'must-stop', 'sub-par', 'Service-check', 'in-house', 'been-stepped', 'in-and', 'tracked-everywhere', 'multi-grain', 'to-go', 'non-customer', 'High-quality', 'sit-down', 'over-whelm', 'low-key', 'non-fancy', 'golden-crispy', 'over-priced', 'over-hip', 'under-services']\n"
          ]
        }
      ]
    },
    {
      "cell_type": "code",
      "source": [
        "len(words11)"
      ],
      "metadata": {
        "colab": {
          "base_uri": "https://localhost:8080/"
        },
        "id": "NE996e3UK6Ch",
        "outputId": "fe54ab98-2c2f-4e2c-af62-1dca38dfd8f7"
      },
      "execution_count": 73,
      "outputs": [
        {
          "output_type": "execute_result",
          "data": {
            "text/plain": [
              "21"
            ]
          },
          "metadata": {},
          "execution_count": 73
        }
      ]
    },
    {
      "cell_type": "markdown",
      "source": [
        "*   **Pregunta 12.**  \n",
        "\n",
        "Busca e imprime todas las palabras que terminan en \"ing\" o \"ed\". \n",
        "\n",
        "Indica la cantidad de palabras que encontraste de cada una."
      ],
      "metadata": {
        "id": "DEIgl79HMthr"
      }
    },
    {
      "cell_type": "code",
      "source": [
        "#Número de palabras que terminan en ing o ed\n",
        "\n",
        "words12 = []\n",
        "for i in range(0,len(words)):\n",
        "  words12 = words12 + re.findall(r\"\\w+(?:ing|ed)$\", words[i])\n",
        "\n",
        "print(words12)"
      ],
      "metadata": {
        "id": "I4TSofBMMv9y",
        "colab": {
          "base_uri": "https://localhost:8080/"
        },
        "outputId": "ab01c71b-3512-4f98-b033-a52842029c87"
      },
      "execution_count": 74,
      "outputs": [
        {
          "output_type": "stream",
          "name": "stdout",
          "text": [
            "['Loved', 'Stopped', 'during', 'loved', 'getting', 'being', 'ended', 'being', 'tried', 'disgusted', 'shocked', 'red', 'asked', 'running', 'redeeming', 'grossed', 'melted', 'getting', 'provided', 'thing', 'cooked', 'dressing', 'ordered', 'running', 'realized', 'Loved', 'lined', 'ripped', 'petrified', 'amazing', 'included', 'nothing', 'appalling', 'seasoned', 'cheated', 'wasting', 'eating', 'going', 'Coming', 'experiencing', 'underwhelming', 'walked', 'smelled', 'raving', 'tailored', 'spring', 'Everything', 'disappointing', 'dining', 'flirting', 'arrived', 'roasted', 'added', 'thing', 'cooked', 'passed', 'ordering', 'liked', 'managed', 'served', 'preparing', 'loving', 'liking', 'venturing', 'overpriced', 'including', 'during', 'checked', 'disappointed', 'red', 'going', 'considering', 'served', 'coming', 'watched', 'greeted', 'seated', 'waited', 'ordered', 'going', 'everything', 'ordered', 'relocated', 'seated', 'looking', 'treated', 'ordered', 'dressing', 'dining', 'used', 'handed', 'missed', 'Everything', 'thrilled', 'amazing', 'judging', 'inspired', 'maintaining', 'asking', 'overcooked', 'decided', 'looked', 'having', 'dressed', 'treated', 'something', 'lacking', 'ordered', 'expected', 'sucked', 'Interesting', 'served', 'preparing', 'feeling', 'voted', 'insulted', 'exceeding', 'dreamed', 'lived', 'stepped', 'mixed', 'showed', 'climbing', 'waiting', 'realized', 'coming', 'loved', 'being', 'needed', 'going', 'loved', 'wrapped', 'dealing', 'annoying', 'Ordered', 'falling', 'sporting', 'covered', 'supposed', 'rolled', 'providing', 'building', 'lighting', 'Based', 'received', 'going', 'nothing', 'privileged', 'eating', 'dressing', 'being', 'charged', 'visited', 'proclaimed', 'Stopped', 'dedicated', 'liked', 'getting', 'waited', 'burned', 'waited', 'disappointed', 'Waited', 'disappointed', 'pulled', 'prepared', 'rating', 'eating', 'writing', 'everything', 'dining', 'fried', 'passed', 'charming', 'ordered', 'toasted', 'going', 'figured', 'making', 'pricing', 'considering', 'returned', 'amazing', 'eyed', 'pleased', 'Everything', 'replenished', 'nothing', 'nothing', 'driving', 'treated', 'during', 'evening', 'offered', 'Outstanding', 'handling', 'wasting', 'craving', 'dropped', 'dining', 'decorated', 'interesting', 'being', 'served', 'outshining', 'coming', 'walked', 'stuffed', 'considering', 'located', 'shopping', 'nothing', 'Cooked', 'disappointed', 'getting', 'iced', 'trying', 'grossed', 'enjoyed', 'eating', 'going', 'looked', 'overwhelmed', 'stayed', 'everything', 'tried', 'loved', 'Ordered', 'Nothing', 'cooked', 'going', 'contained', 'enjoyed', 'relaxed', 'loved', 'outstanding', 'running', 'forgetting', 'trimmed', 'claimed', 'handled', 'asked', 'eating', 'bring', 'hoping', 'living', 'limited', 'boiled', 'dining', 'liked', 'sliced', 'attached', 'humiliated', 'filling', 'fried', 'impressed', 'priced', 'Everything', 'thing', 'need', 'Everything', 'need', 'experienced', 'amazing', 'amazing', 'waited', 'seated', 'going', 'going', 'dining', 'decided', 'pleased', 'saving', 'something', 'trying', 'hankering', 'recommended', 'being', 'witnessed', 'Waited', 'waited', 'checked', 'tasted', 'being', 'served', 'pulled', 'waited', 'being', 'perpared', 'dusted', 'powdered', 'enjoyed', 'sitting', 'ended', 'waiting', 'satisfying', 'wanted', 'eating', 'need', 'being', 'freaking', 'checked', 'reheated', 'getting', 'tasted', 'grilled', 'going', 'focused', 'roasted', 'asked', 'being', 'ignored', 'bring', 'letting', 'tasted', 'Ordered', 'greeted', 'Tried', 'waiting', 'being', 'eating', 'going', 'Disappointed', 'ordered', 'seating', 'fried', 'playing', 'amazing', 'staying', 'used', 'giving', 'talking', 'drenched', 'tried', 'walked', 'expected', 'filling', 'dripping', 'impressed', 'going', 'serving', 'refrained', 'recommending', 'reading', 'loved', 'grilled', 'reminded', 'seating', 'ordered', 'going', 'disappointed', 'seasoned', 'thing', 'added', 'sitting', 'waiting', 'bring', 'coming', 'touched', 'anything', 'opened', 'feeling', 'during', 'watched', 'thing', 'being', 'Tasted', 'being', 'ordered', 'satifying', 'describing', 'coming', 'everything', 'received', 'Paying', 'going', 'impressed', 'cooked', 'needed', 'served', 'thing', 'amazing', 'getting', 'opposed', 'cramming', 'surprised', 'considering', 'focused', 'overpriced', 'fucking', 'tried', 'enjoyed', 'going', 'qualified', 'hated', 'getting', 'coming', 'watched', 'Everything', 'fried', 'dealing', 'everything', 'tried', 'something', 'during', 'helped', 'dining', 'cooking', 'dining', 'started', 'editing', 'highlighted', 'used', 'amazing', 'enjoyed', 'ordered', 'tasted', 'asked', 'refused', 'tried', 'rotating', 'Pricing', 'toasted', 'satisfying', 'disappointing', 'unexperienced', 'running', 'insulted', 'being', 'impressed', 'thing', 'nothing', 'poisoning', 'thinking', 'something', 'going', 'caring', 'bring', 'asked', 'Disappointing', 'rated', 'going', 'lacked', 'coming', 'sliced', 'pulled', 'building', 'seating', 'dipping', 'seemed', 'watered', 'lacked', 'drinking', 'serving', 'disappointed', 'placed', 'avoided', 'received', 'wanted', 'doing', 'happened', 'wanted', 'Overpriced', 'vomited', 'looking', 'started', 'coming', 'unwrapped', 'lacked', 'seemed', 'closed', 'staying', 'refried', 'dried', 'disappointed', 'impressed', 'wasted', 'poured', 'drawing', 'bring']\n"
          ]
        }
      ]
    },
    {
      "cell_type": "code",
      "source": [
        "len(words12)"
      ],
      "metadata": {
        "colab": {
          "base_uri": "https://localhost:8080/"
        },
        "id": "TbDRQuEmLAAT",
        "outputId": "dfc9b674-8441-42df-8905-1fa3fdb75cc0"
      },
      "execution_count": 75,
      "outputs": [
        {
          "output_type": "execute_result",
          "data": {
            "text/plain": [
              "480"
            ]
          },
          "metadata": {},
          "execution_count": 75
        }
      ]
    },
    {
      "cell_type": "code",
      "source": [
        "#Número de palabras que terminan en ing\n",
        "j = 0\n",
        "for i in range(0,len(words12)):\n",
        "  if len(re.findall(r\"\\w+(?:ing)$\", words12[i])) > 0:\n",
        "         j = j +1\n",
        "\n",
        "print(j)"
      ],
      "metadata": {
        "id": "AhGq6De2Mvyh",
        "colab": {
          "base_uri": "https://localhost:8080/"
        },
        "outputId": "5625269b-ab26-45f7-e203-bfce6d489730"
      },
      "execution_count": 76,
      "outputs": [
        {
          "output_type": "stream",
          "name": "stdout",
          "text": [
            "224\n"
          ]
        }
      ]
    },
    {
      "cell_type": "code",
      "source": [
        "#Número de palabras que terminan en ed\n",
        "j = 0\n",
        "for i in range(0,len(words12)):\n",
        "  if len(re.findall(r\"\\w+(?:ed)$\", words12[i])) > 0:\n",
        "         j = j +1\n",
        "\n",
        "print(j)"
      ],
      "metadata": {
        "colab": {
          "base_uri": "https://localhost:8080/"
        },
        "id": "x1-PceFXGKeB",
        "outputId": "30127c84-629b-4ad9-eb4d-8893d63b753a"
      },
      "execution_count": 77,
      "outputs": [
        {
          "output_type": "stream",
          "name": "stdout",
          "text": [
            "256\n"
          ]
        }
      ]
    },
    {
      "cell_type": "markdown",
      "source": [
        "#**Parte 3. Proceso de limpieza.**"
      ],
      "metadata": {
        "id": "70StdqAZa9E9"
      }
    },
    {
      "cell_type": "markdown",
      "source": [
        "*   **Pregunta 13.**  \n",
        "\n",
        "Ahora realiza un proceso de limpieza del corpus que incluya los siguientes procesos:\n",
        "\n",
        "*   Solo se deben considerar caracteres alfabéticos. Es decir, se eliminan todos los signos de puntuación y caracteres especiales.\n",
        "*   Todos los caracteres alfabéticos se transforman a minúsculas.\n",
        "*   Se deben eliminar todos los espacios en blanco adicionales que se puedan encontrar en cada comentario.\n",
        "\n",
        "Al finalizar dicho proceso de limpieza, imprime el resultado de los primeros 10 comentarios resultantes. \n",
        "   \n",
        "\n",
        "\n"
      ],
      "metadata": {
        "id": "xaDUFXHrMvX2"
      }
    },
    {
      "cell_type": "code",
      "source": [
        "#Se eliminan signos de puntuación y caracteres especiales.\n",
        "#Adicionalmente se cambian a minúsculas todos los carateres y eliminan los espacios en blanco adicionales.\n",
        "new_docs = []\n",
        "for i in docs1:\n",
        "  coment = re.sub(r'[^a-zA-Z0-9 ]','', i).lower().strip(' ')\n",
        "  new_docs.append(coment)"
      ],
      "metadata": {
        "id": "wqYsNWEWThiW"
      },
      "execution_count": 35,
      "outputs": []
    },
    {
      "cell_type": "code",
      "source": [
        "new_docs[0:10]"
      ],
      "metadata": {
        "colab": {
          "base_uri": "https://localhost:8080/"
        },
        "id": "UtQ_I13oThks",
        "outputId": "a61a8012-20ee-493a-a177-d837f10ee8f0"
      },
      "execution_count": 36,
      "outputs": [
        {
          "output_type": "execute_result",
          "data": {
            "text/plain": [
              "['wow loved this place',\n",
              " 'crust is not good',\n",
              " 'not tasty and the texture was just nasty',\n",
              " 'stopped by during the late may bank holiday off rick steve recommendation and loved it',\n",
              " 'the selection on the menu was great and so were the prices',\n",
              " 'now i am getting angry and i want my damn pho',\n",
              " 'honeslty it didnt taste that fresh',\n",
              " 'the potatoes were like rubber and you could tell they had been made up ahead of time being kept under a warmer',\n",
              " 'the fries were great too',\n",
              " 'a great touch']"
            ]
          },
          "metadata": {},
          "execution_count": 36
        }
      ]
    },
    {
      "cell_type": "markdown",
      "source": [
        "*   **Pregunta 14.**  \n",
        "\n",
        "Con el resultado de la limpieza obtenido en la pregunta anterior, realiza ahora un proceso de tokenización por palabras del corpus. \n",
        "\n",
        "Es decir, al final de este proceso de tokenización, debes tener como resultado una lista de listas, donde cada comentario estará tokenizado por palabras.\n",
        "\n",
        "Al terminar calcula el total de tokens obtenido en todo el corpus. "
      ],
      "metadata": {
        "id": "WZwEhg2lUSAX"
      }
    },
    {
      "cell_type": "code",
      "source": [
        "words_clean = []\n",
        "for i in new_docs:\n",
        "  for j in i.split():\n",
        "    words_clean.append(j)"
      ],
      "metadata": {
        "id": "kbAL9-v0V-jx"
      },
      "execution_count": 41,
      "outputs": []
    },
    {
      "cell_type": "code",
      "source": [
        "len(words_clean)"
      ],
      "metadata": {
        "id": "DZs_etmiV-fd",
        "colab": {
          "base_uri": "https://localhost:8080/"
        },
        "outputId": "4e9bdbd1-0b1e-4f36-b6d2-0c4165be92c9"
      },
      "execution_count": 42,
      "outputs": [
        {
          "output_type": "execute_result",
          "data": {
            "text/plain": [
              "10846"
            ]
          },
          "metadata": {},
          "execution_count": 42
        }
      ]
    },
    {
      "cell_type": "markdown",
      "source": [
        "*   **Pregunta 15.**  \n",
        "\n",
        "Finalmente, en este ejercicio definiremos nuestro conjunto de palabras \"stopwords\", las cuales deberás eliminar de todo el corpus. \n",
        "\n",
        "Recuerda que ejemplos de stopwords son artículos, adverbios, conectivos, etcétera, que tienen frecuencias de aparición muy altas en cualquier documento, pero que no brindan mucho significado en cuanto al significado de un enunciado.\n",
        "\n",
        "Con base a la lista de stopwords que se te proporciona, realiza un proceso de limpieza eliminando todas estas palabras del corpus obtenido en el ejercicio anterior.\n",
        "\n",
        "Obtener cuántos tokens/palabras quedan finalmente en todo el corpus.\n",
        "\n",
        "Obtener cuántos de estos tokens/palabras son diferentes, es decir, cuántos tokens únicos tendrá lo que llamaremos más adelante nuestro vocabulario."
      ],
      "metadata": {
        "id": "EFeu0OJ7WDPD"
      }
    },
    {
      "cell_type": "code",
      "source": [
        "# Considera la siguiente lista como tu conjunto de stopwords:\n",
        "mis_stopwords = ['i', 'me', 'my', 'myself', 'we', 'our', 'ours', 'ourselves', 'you', 'your', 'yours', 'he', 'him', 'his', 'himself', 'she', 'her', 'hers', 'herself', 'it', 'its', 'itself', 'they', 'them', 'their', 'theirs', 'themselves', 'what', 'which', 'who', 'whom', 'this', 'that', 'these', 'those', 'am', 'is', 'are', 'was', 'were', 'be', 'been', 'being', 'have', 'has', 'had', 'having', 'do', 'does', 'did', 'doing', 'a', 'an', 'the', 'and', 'but', 'if', 'or', 'because', 'as', 'until', 'while', 'of', 'at', 'by', 'for', 'with', 'about', 'against', 'between', 'into', 'through', 'during', 'before', 'after', 'above', 'below', 'to', 'from', 'up', 'down', 'in', 'out', 'on', 'over', 'under', 'again', 'further', 'then', 'once', 'here', 'there', 'when', 'where', 'why', 'how', 'all', 'any', 'both', 'each', 'few', 'more', 'most', 'other', 'some', 'such', 'only', 'own', 'same', 'so', 'than', 'too', 'very', 's', 't', 'can', 'will', 'just', 'should', 'now', 'll']"
      ],
      "metadata": {
        "id": "6FP4FF3KXGxm"
      },
      "execution_count": 39,
      "outputs": []
    },
    {
      "cell_type": "code",
      "source": [
        "#Tokens sin stop words\n",
        "tokens = [w for w in words_clean if w not in mis_stopwords]\n",
        "len(tokens)"
      ],
      "metadata": {
        "colab": {
          "base_uri": "https://localhost:8080/"
        },
        "id": "8UuGyVYi49jU",
        "outputId": "b10a7837-83bc-4cb8-e25d-b49161625c71"
      },
      "execution_count": 45,
      "outputs": [
        {
          "output_type": "execute_result",
          "data": {
            "text/plain": [
              "5846"
            ]
          },
          "metadata": {},
          "execution_count": 45
        }
      ]
    },
    {
      "cell_type": "code",
      "source": [
        "#Función para optener palabras únicas de listas\n",
        "def getUniqueWords(allWords) :\n",
        "    uniqueWords = [] \n",
        "    for i in allWords:\n",
        "        if not i in uniqueWords:\n",
        "            uniqueWords.append(i)\n",
        "    return uniqueWords"
      ],
      "metadata": {
        "id": "ESS3DLUM7JN5"
      },
      "execution_count": 46,
      "outputs": []
    },
    {
      "cell_type": "code",
      "source": [
        "#Tokens únicos\n",
        "tokens_unique = getUniqueWords(tokens)\n",
        "len(tokens_unique)"
      ],
      "metadata": {
        "colab": {
          "base_uri": "https://localhost:8080/"
        },
        "id": "QKRV7QJN75AA",
        "outputId": "3cb52f8f-90f2-4cbf-f883-83c4b5dbbac6"
      },
      "execution_count": 47,
      "outputs": [
        {
          "output_type": "execute_result",
          "data": {
            "text/plain": [
              "1970"
            ]
          },
          "metadata": {},
          "execution_count": 47
        }
      ]
    },
    {
      "cell_type": "markdown",
      "source": [
        "*   **Comentarios**\n",
        "\n",
        "Incluye finalmente tus comentarios de la actividad."
      ],
      "metadata": {
        "id": "NDbKkuxRbLoX"
      }
    },
    {
      "cell_type": "markdown",
      "source": [
        "En lo personal considero que las expresiones regulares, aunque complicadas, son muy útiles y poderosas, ya que pemiten procesar una cantidada de datos con muy pocas instrucciones y de manera muy eficiente.\n"
      ],
      "metadata": {
        "id": "o7fzbvqVbUGr"
      }
    },
    {
      "cell_type": "markdown",
      "source": [
        "##**Fin de la Actividad de la semana 2.**"
      ],
      "metadata": {
        "id": "PHaKw_6Ldbaf"
      }
    },
    {
      "cell_type": "code",
      "source": [],
      "metadata": {
        "id": "TkuwpTOxCd5y"
      },
      "execution_count": null,
      "outputs": []
    }
  ]
}